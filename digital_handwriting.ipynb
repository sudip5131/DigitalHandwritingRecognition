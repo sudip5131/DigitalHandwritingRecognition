{
  "nbformat": 4,
  "nbformat_minor": 0,
  "metadata": {
    "colab": {
      "name": "digital_handwriting.ipynb",
      "provenance": [],
      "collapsed_sections": [],
      "authorship_tag": "ABX9TyPGeU7q1miM6cc5KwwnuoG7",
      "include_colab_link": true
    },
    "kernelspec": {
      "name": "python2",
      "display_name": "Python 2"
    },
    "accelerator": "GPU"
  },
  "cells": [
    {
      "cell_type": "markdown",
      "metadata": {
        "id": "view-in-github",
        "colab_type": "text"
      },
      "source": [
        "<a href=\"https://colab.research.google.com/github/Ganesh7764/digit-recognition/blob/master/digital_handwriting.ipynb\" target=\"_parent\"><img src=\"https://colab.research.google.com/assets/colab-badge.svg\" alt=\"Open In Colab\"/></a>"
      ]
    },
    {
      "cell_type": "code",
      "metadata": {
        "id": "ZS3zpbwV6M0u",
        "colab_type": "code",
        "outputId": "a0340177-6306-40ec-d3ce-dc38d1c3a38a",
        "colab": {
          "base_uri": "https://localhost:8080/",
          "height": 377
        }
      },
      "source": [
        "pip install -r https://raw.githubusercontent.com/Lasagne/Lasagne/v0.1/requirements.txt\n"
      ],
      "execution_count": 0,
      "outputs": [
        {
          "output_type": "stream",
          "text": [
            "Collecting Theano==0.8.git\n",
            "  Cloning https://github.com/Theano/Theano.git (to revision 15c90dd3) to /tmp/pip-install-TumET7/Theano\n",
            "  Running command git clone -q https://github.com/Theano/Theano.git /tmp/pip-install-TumET7/Theano\n",
            "\u001b[33m  WARNING: Did not find branch or tag '15c90dd3', assuming revision or ref.\u001b[0m\n",
            "  Running command git checkout -q 15c90dd3\n",
            "\u001b[33m  WARNING: Requested Theano==0.8.git from git+https://github.com/Theano/Theano.git@15c90dd3#egg=Theano==0.8.git (from -r https://raw.githubusercontent.com/Lasagne/Lasagne/v0.1/requirements.txt (line 1)), but installing version 0.7.0\u001b[0m\n",
            "Requirement already satisfied: numpy>=1.6.2 in /usr/local/lib/python2.7/dist-packages (from Theano==0.8.git->-r https://raw.githubusercontent.com/Lasagne/Lasagne/v0.1/requirements.txt (line 1)) (1.16.4)\n",
            "Requirement already satisfied: scipy>=0.11 in /usr/local/lib/python2.7/dist-packages (from Theano==0.8.git->-r https://raw.githubusercontent.com/Lasagne/Lasagne/v0.1/requirements.txt (line 1)) (1.2.2)\n",
            "Requirement already satisfied: six>=1.9.0 in /usr/local/lib/python2.7/dist-packages (from Theano==0.8.git->-r https://raw.githubusercontent.com/Lasagne/Lasagne/v0.1/requirements.txt (line 1)) (1.12.0)\n",
            "Building wheels for collected packages: Theano\n",
            "  Building wheel for Theano (setup.py) ... \u001b[?25l\u001b[?25hdone\n",
            "  Created wheel for Theano: filename=Theano-0.7.0-cp27-none-any.whl size=2028394 sha256=fa088419fb0b011570338d658827d2346b130fe0728363c49275ffa4fe723c66\n",
            "  Stored in directory: /tmp/pip-ephem-wheel-cache-p1qWPH/wheels/59/d8/78/0702971172890b64bbbf9ced87c8649aae75b8c04d29be0ac8\n",
            "Successfully built Theano\n",
            "\u001b[31mERROR: pymc3 3.6 has requirement theano>=1.0.0, but you'll have theano 0.7.0 which is incompatible.\u001b[0m\n",
            "Installing collected packages: Theano\n",
            "  Found existing installation: Theano 1.0.4\n",
            "    Uninstalling Theano-1.0.4:\n",
            "      Successfully uninstalled Theano-1.0.4\n",
            "Successfully installed Theano-0.7.0\n"
          ],
          "name": "stdout"
        }
      ]
    },
    {
      "cell_type": "code",
      "metadata": {
        "id": "NH7zD9aaBViD",
        "colab_type": "code",
        "outputId": "7ee6eb33-359e-42a0-f289-0ac7a17f2cf4",
        "colab": {
          "base_uri": "https://localhost:8080/",
          "height": 204
        }
      },
      "source": [
        "pip install lasagne==0.1"
      ],
      "execution_count": 0,
      "outputs": [
        {
          "output_type": "stream",
          "text": [
            "Collecting lasagne==0.1\n",
            "\u001b[?25l  Downloading https://files.pythonhosted.org/packages/98/bf/4b2336e4dbc8c8859c4dd81b1cff18eef2066b4973a1bd2b0ca2e5435f35/Lasagne-0.1.tar.gz (125kB)\n",
            "\r\u001b[K     |██▋                             | 10kB 15.5MB/s eta 0:00:01\r\u001b[K     |█████▎                          | 20kB 5.3MB/s eta 0:00:01\r\u001b[K     |███████▉                        | 30kB 7.4MB/s eta 0:00:01\r\u001b[K     |██████████▌                     | 40kB 9.4MB/s eta 0:00:01\r\u001b[K     |█████████████                   | 51kB 5.8MB/s eta 0:00:01\r\u001b[K     |███████████████▊                | 61kB 6.8MB/s eta 0:00:01\r\u001b[K     |██████████████████▍             | 71kB 6.2MB/s eta 0:00:01\r\u001b[K     |█████████████████████           | 81kB 6.9MB/s eta 0:00:01\r\u001b[K     |███████████████████████▋        | 92kB 7.6MB/s eta 0:00:01\r\u001b[K     |██████████████████████████▏     | 102kB 7.4MB/s eta 0:00:01\r\u001b[K     |████████████████████████████▉   | 112kB 7.4MB/s eta 0:00:01\r\u001b[K     |███████████████████████████████▍| 122kB 7.4MB/s eta 0:00:01\r\u001b[K     |████████████████████████████████| 133kB 7.4MB/s \n",
            "\u001b[?25hRequirement already satisfied: numpy in /usr/local/lib/python2.7/dist-packages (from lasagne==0.1) (1.16.4)\n",
            "Building wheels for collected packages: lasagne\n",
            "  Building wheel for lasagne (setup.py) ... \u001b[?25l\u001b[?25hdone\n",
            "  Created wheel for lasagne: filename=Lasagne-0.1-cp27-none-any.whl size=79274 sha256=ad12e669d1c9735a1debf1e05c2486f6425293513b8ab9de1147aa11c568f6be\n",
            "  Stored in directory: /root/.cache/pip/wheels/a5/8e/31/b4cae7e5507f8582e77d7f5cf2815be8820ccacfa0519ca60c\n",
            "Successfully built lasagne\n",
            "Installing collected packages: lasagne\n",
            "Successfully installed lasagne-0.1\n"
          ],
          "name": "stdout"
        }
      ]
    },
    {
      "cell_type": "code",
      "metadata": {
        "id": "bvXM4AAF7QND",
        "colab_type": "code",
        "outputId": "e6342980-2616-4667-cd71-ffb69642e7b6",
        "colab": {
          "base_uri": "https://localhost:8080/",
          "height": 326
        }
      },
      "source": [
        "pip install -U numpy\n"
      ],
      "execution_count": 0,
      "outputs": [
        {
          "output_type": "stream",
          "text": [
            "Collecting numpy\n",
            "\u001b[?25l  Downloading https://files.pythonhosted.org/packages/3a/5f/47e578b3ae79e2624e205445ab77a1848acdaa2929a00eeef6b16eaaeb20/numpy-1.16.6-cp27-cp27mu-manylinux1_x86_64.whl (17.0MB)\n",
            "\u001b[K     |████████████████████████████████| 17.0MB 189kB/s \n",
            "\u001b[31mERROR: tensorflow 1.15.0 has requirement tensorflow-estimator==1.15.1, but you'll have tensorflow-estimator 1.15.0 which is incompatible.\u001b[0m\n",
            "\u001b[31mERROR: fastai 0.7.0 has requirement torch<0.4, but you'll have torch 1.4.0 which is incompatible.\u001b[0m\n",
            "\u001b[31mERROR: albumentations 0.1.12 has requirement imgaug<0.2.7,>=0.2.5, but you'll have imgaug 0.2.9 which is incompatible.\u001b[0m\n",
            "\u001b[31mERROR: pymc3 3.6 has requirement theano>=1.0.0, but you'll have theano 0.7.0 which is incompatible.\u001b[0m\n",
            "\u001b[?25hInstalling collected packages: numpy\n",
            "  Found existing installation: numpy 1.16.4\n",
            "    Uninstalling numpy-1.16.4:\n",
            "      Successfully uninstalled numpy-1.16.4\n",
            "Successfully installed numpy-1.16.6\n"
          ],
          "name": "stdout"
        },
        {
          "output_type": "display_data",
          "data": {
            "application/vnd.colab-display-data+json": {
              "pip_warning": {
                "packages": [
                  "numpy"
                ]
              }
            }
          },
          "metadata": {
            "tags": []
          }
        }
      ]
    },
    {
      "cell_type": "code",
      "metadata": {
        "id": "IiR90R8GuVUi",
        "colab_type": "code",
        "outputId": "ba7009f1-b317-460e-efcc-e011d237011c",
        "colab": {
          "base_uri": "https://localhost:8080/",
          "height": 51
        }
      },
      "source": [
        "pip install Pillow"
      ],
      "execution_count": 0,
      "outputs": [
        {
          "output_type": "stream",
          "text": [
            "Requirement already satisfied: Pillow in /usr/local/lib/python2.7/dist-packages (4.3.0)\n",
            "Requirement already satisfied: olefile in /usr/local/lib/python2.7/dist-packages (from Pillow) (0.46)\n"
          ],
          "name": "stdout"
        }
      ]
    },
    {
      "cell_type": "code",
      "metadata": {
        "id": "gG-ZKtq3NT20",
        "colab_type": "code",
        "outputId": "a425813b-e4ef-4fbd-d939-f9daca264d62",
        "colab": {
          "base_uri": "https://localhost:8080/",
          "height": 85
        }
      },
      "source": [
        "import numpy as np\n",
        "\n",
        "def download(filename, source='http://yann.lecun.com/exdb/mnist/'):\n",
        "  print (\"Downloading \",filename)\n",
        "  import urllib #to download file from url\n",
        "  urllib.urlretrieve(source+filename,filename)\n",
        "\n",
        "import gzip #to unzip\n",
        "import os #get the user environment\n",
        "\n",
        "\n",
        "def load_mnist_images(filename):\n",
        "  if not os.path.exists(filename): #checks current directory for the existance of the file\n",
        "    download(filename)\n",
        "\n",
        "  with gzip.open(filename,'rb') as f:\n",
        "    data = np.frombuffer(f.read(),np.uint8,offset=16)\n",
        "\n",
        "\n",
        "\n",
        "    data=data.reshape(-1,1,28,28)\n",
        "\n",
        "    return data/np.float32(256)\n",
        "\n",
        "\n",
        "def load_mnist_labels(filename):\n",
        "  if not os.path.exists(filename):\n",
        "    download(filename)\n",
        "\n",
        "  with gzip.open(filename,'rb') as f:\n",
        "    data = np.frombuffer(f.read(),np.uint8,offset=8)\n",
        "\n",
        "    return data\n",
        "\n",
        "\n",
        "X_train = load_mnist_images('train-images-idx3-ubyte.gz')\n",
        "Y_train = load_mnist_labels('train-labels-idx1-ubyte.gz')\n",
        "X_test = load_mnist_images('t10k-images-idx3-ubyte.gz')\n",
        "Y_test = load_mnist_labels('t10k-labels-idx1-ubyte.gz')\n"
      ],
      "execution_count": 0,
      "outputs": [
        {
          "output_type": "stream",
          "text": [
            "('Downloading ', 'train-images-idx3-ubyte.gz')\n",
            "('Downloading ', 'train-labels-idx1-ubyte.gz')\n",
            "('Downloading ', 't10k-images-idx3-ubyte.gz')\n",
            "('Downloading ', 't10k-labels-idx1-ubyte.gz')\n"
          ],
          "name": "stdout"
        }
      ]
    },
    {
      "cell_type": "code",
      "metadata": {
        "id": "O9tLb-vBPFVm",
        "colab_type": "code",
        "outputId": "daf19299-37b4-4542-e192-de5d420efed8",
        "colab": {
          "base_uri": "https://localhost:8080/",
          "height": 357
        }
      },
      "source": [
        "import theano\n",
        "import theano.tensor as T\n",
        "import lasagne\n",
        "\n",
        "\n",
        "def build_NN(input_var = None):\n",
        "\n",
        "\n",
        "\tl_in = lasagne.layers.InputLayer(shape=(None,1,28,28),input_var=input_var)\n",
        "\n",
        "\n",
        "\tl_in_drop = lasagne.layers.DropoutLayer(l_in,p=0.1)\n",
        "\n",
        "\n",
        "\tl_hid1 = lasagne.layers.DenseLayer(l_in_drop,num_units=800,\n",
        "\t\tnonlinearity=lasagne.nonlinearities.rectify,\n",
        "\t\tW = lasagne.init.GlorotUniform())\n",
        "\n",
        "\n",
        "\n",
        "\tl_hid1_drop = lasagne.layers.DropoutLayer(l_hid1,p=0.5)\n",
        "\n",
        "\n",
        "\tl_hid2 = lasagne.layers.DenseLayer(l_hid1_drop, num_units=800,\n",
        "\t\tnonlinearity=lasagne.nonlinearities.rectify,\n",
        "\t\tW=lasagne.init.GlorotUniform())\n",
        "\t\n",
        "\tl_hid2_drop = lasagne.layers.DropoutLayer(l_hid2,p=0.5)\n",
        "\t\n",
        "\n",
        "\n",
        "\tl_out = lasagne.layers.DenseLayer(l_hid2_drop,num_units=10,\n",
        "\t\tnonlinearity = lasagne.nonlinearities.softmax)\n",
        "\treturn l_out\n",
        "\n",
        " \t\n",
        "input_var = T.tensor4('inputs') #empty 4 dimentional array\n",
        "target_var = T.ivector('targets') \n",
        "\n",
        "network = build_NN(input_var)#call the function that initializes the neural network\n",
        "\n",
        "prediction = lasagne.layers.get_output(network)\n",
        "loss = lasagne.objectives.categorical_crossentropy(prediction,target_var)\n",
        "\n",
        "\n",
        "loss = loss.mean()\n",
        "\n",
        "\n",
        "\n",
        "params = lasagne.layers.get_all_params(network,trainable=True)\n",
        "\n",
        "updates = lasagne.updates.nesterov_momentum(loss, params, learning_rate=0.01, momentum = 0.9)\n",
        "\n",
        "\n",
        "train_fn = theano.function([input_var,target_var], loss, updates=updates)\n",
        "\n",
        "import matplotlib\n",
        "#matplotlib.use('TkAgg')\n",
        "\n",
        "import matplotlib.pyplot as plt\n",
        "#plt.show(plt.imshow(X_test[0][0]))\n",
        "#print(X_test[0][0])\n",
        "\n",
        "#now we will feed the training data to the neural network\n",
        "num_training_steps = 20\n",
        "\n",
        "for step in range (num_training_steps):\n",
        "\ttrain_err = train_fn(X_train, Y_train)\n",
        "\tprint (\"current step is \"+str(step))\n"
      ],
      "execution_count": 0,
      "outputs": [
        {
          "output_type": "stream",
          "text": [
            "current step is 0\n",
            "current step is 1\n",
            "current step is 2\n",
            "current step is 3\n",
            "current step is 4\n",
            "current step is 5\n",
            "current step is 6\n",
            "current step is 7\n",
            "current step is 8\n",
            "current step is 9\n",
            "current step is 10\n",
            "current step is 11\n",
            "current step is 12\n",
            "current step is 13\n",
            "current step is 14\n",
            "current step is 15\n",
            "current step is 16\n",
            "current step is 17\n",
            "current step is 18\n",
            "current step is 19\n"
          ],
          "name": "stdout"
        }
      ]
    },
    {
      "cell_type": "code",
      "metadata": {
        "id": "xyR-ocilxlef",
        "colab_type": "code",
        "outputId": "acabe12d-a6e4-4505-8b1a-25160ed71d07",
        "colab": {
          "resources": {
            "http://localhost:8080/nbextensions/google.colab/files.js": {
              "data": "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",
              "ok": true,
              "headers": [
                [
                  "content-type",
                  "application/javascript"
                ]
              ],
              "status": 200,
              "status_text": ""
            }
          },
          "base_uri": "https://localhost:8080/",
          "height": 326
        }
      },
      "source": [
        "from google.colab import files\n",
        "from io import BytesIO\n",
        "from PIL import Image\n",
        "import matplotlib.pyplot as plt\n",
        "\n",
        "uploaded = files.upload()\n",
        "\n",
        "image = Image.open(BytesIO(uploaded['image.png'])).convert('L')\n",
        "\n",
        "plt.imshow(image)\n",
        "plt.show()\n",
        "#im = np.array(im)\n"
      ],
      "execution_count": 0,
      "outputs": [
        {
          "output_type": "display_data",
          "data": {
            "text/plain": [
              "<IPython.core.display.HTML object>"
            ],
            "text/html": [
              "\n",
              "     <input type=\"file\" id=\"files-9753a105-3b72-4eb9-9bbb-2932ff9f3d52\" name=\"files[]\" multiple disabled />\n",
              "     <output id=\"result-9753a105-3b72-4eb9-9bbb-2932ff9f3d52\">\n",
              "      Upload widget is only available when the cell has been executed in the\n",
              "      current browser session. Please rerun this cell to enable.\n",
              "      </output>\n",
              "      <script src=\"/nbextensions/google.colab/files.js\"></script> "
            ]
          },
          "metadata": {
            "tags": []
          }
        },
        {
          "output_type": "stream",
          "text": [
            "Saving image.png to image (2).png\n"
          ],
          "name": "stdout"
        },
        {
          "output_type": "display_data",
          "data": {
            "image/png": "[encoded data removed]",
            "text/plain": [
              "<Figure size 432x288 with 1 Axes>"
            ]
          },
          "metadata": {
            "tags": []
          }
        }
      ]
    },
    {
      "cell_type": "code",
      "metadata": {
        "id": "HaP20TOeQATW",
        "colab_type": "code",
        "colab": {}
      },
      "source": [
        "im = image.resize((28,28))\n",
        "im = np.array(im)\n",
        "# print(im)\n",
        "# print(im.shape)\n",
        "im1 = im.reshape((1,1,28,28))"
      ],
      "execution_count": 0,
      "outputs": []
    },
    {
      "cell_type": "code",
      "metadata": {
        "id": "aZSDcmiWRaGi",
        "colab_type": "code",
        "outputId": "1827610b-6d1b-44a4-c3f6-a983f4b0b8f8",
        "colab": {
          "base_uri": "https://localhost:8080/",
          "height": 34
        }
      },
      "source": [
        "print(im1.shape)"
      ],
      "execution_count": 0,
      "outputs": [
        {
          "output_type": "stream",
          "text": [
            "(1, 1, 28, 28)\n"
          ],
          "name": "stdout"
        }
      ]
    },
    {
      "cell_type": "code",
      "metadata": {
        "id": "e5RCRK7RRkX2",
        "colab_type": "code",
        "outputId": "00812544-7d81-4edd-9f4b-2a74cabfacea",
        "colab": {
          "base_uri": "https://localhost:8080/",
          "height": 34
        }
      },
      "source": [
        "test_prediction = lasagne.layers.get_output(network)\n",
        "val_fn = theano.function([input_var],test_prediction)\n",
        "scores = val_fn(im1).tolist() #this will apply the function on 1 image, the first one in the text set\n",
        "print scores"
      ],
      "execution_count": 0,
      "outputs": [
        {
          "output_type": "stream",
          "text": [
            "[[1.0, 9.69919885571714e-259, 0.0, 0.0, 0.0, 0.0, 0.0, 9.100662510926083e-282, 0.0, 1.2671242319631813e-137]]\n"
          ],
          "name": "stdout"
        }
      ]
    },
    {
      "cell_type": "code",
      "metadata": {
        "id": "Iko1UdLKSknz",
        "colab_type": "code",
        "outputId": "c04343f2-9e6f-42ae-df37-04dbc6f7c86e",
        "colab": {
          "base_uri": "https://localhost:8080/",
          "height": 34
        }
      },
      "source": [
        "print scores[0].index(max(scores[0]))"
      ],
      "execution_count": 0,
      "outputs": [
        {
          "output_type": "stream",
          "text": [
            "0\n"
          ],
          "name": "stdout"
        }
      ]
    },
    {
      "cell_type": "code",
      "metadata": {
        "id": "r87fyGw6SeGk",
        "colab_type": "code",
        "outputId": "0443a7dd-0b19-4c55-e747-4c23cd4bd3b9",
        "colab": {
          "base_uri": "https://localhost:8080/",
          "height": 51
        }
      },
      "source": [
        "test_prediction = lasagne.layers.get_output(network, deterministic=True)\n",
        "test_acc = T.mean(T.eq(T.argmax(test_prediction, axis=1),target_var),dtype=theano.config.floatX)\n",
        "acc_fn = theano.function([input_var,target_var],test_acc)\n",
        "print (\"Accuracy is: \")\n",
        "print acc_fn(X_test,Y_test)\n",
        "\n"
      ],
      "execution_count": 0,
      "outputs": [
        {
          "output_type": "stream",
          "text": [
            "Accuracy is: \n",
            "0.736\n"
          ],
          "name": "stdout"
        }
      ]
    }
  ]
}